{
 "cells": [
  {
   "cell_type": "markdown",
   "metadata": {},
   "source": [
    "你是什么时候开始学git的\n",
    "旧时啊\n",
    "*学会git后拿什么来奖励自己呢*\n",
    "*酒食啊*\n",
    "**给自己的git水平打多少分**\n",
    "**九十啊**\n",
    "***为什么要学git呢***\n",
    "***旧事啊***\n",
    "__误删了远程的代码该怎么办好啊__\n",
    "__就逝啊__"
   ]
  },
  {
   "cell_type": "code",
   "execution_count": 1,
   "metadata": {},
   "outputs": [
    {
     "name": "stdout",
     "output_type": "stream",
     "text": [
      "[1 1 4 5 1 4]\n"
     ]
    }
   ],
   "source": [
    "import numpy as np\n",
    "yaju = np.array([1, 1, 4, 5, 1, 4])\n",
    "print(yaju)"
   ]
  }
 ],
 "metadata": {
  "kernelspec": {
   "display_name": "Python 3.9.6 64-bit",
   "language": "python",
   "name": "python3"
  },
  "language_info": {
   "codemirror_mode": {
    "name": "ipython",
    "version": 3
   },
   "file_extension": ".py",
   "mimetype": "text/x-python",
   "name": "python",
   "nbconvert_exporter": "python",
   "pygments_lexer": "ipython3",
   "version": "3.9.6"
  },
  "orig_nbformat": 4,
  "vscode": {
   "interpreter": {
    "hash": "e450050b432e843bda3c41bf3272c133bfc370a7003f3e377e27f87a49ce1127"
   }
  }
 },
 "nbformat": 4,
 "nbformat_minor": 2
}
