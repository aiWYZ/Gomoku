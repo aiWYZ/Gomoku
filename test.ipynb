{
 "cells": [
  {
<<<<<<< HEAD
   "cell_type": "code",
   "execution_count": 1,
   "id": "3199633f",
=======
   "cell_type": "markdown",
   "metadata": {},
   "source": [
    "你是什么时候开始学git的<br>\n",
    "旧时啊<br>\n",
    "*学会git后拿什么来奖励自己呢*<br>\n",
    "*酒食啊*<br>\n",
    "**给自己的git水平打多少分**<br>\n",
    "**九十啊**<br>\n",
    "***为什么要学git呢***<br>\n",
    "***旧事啊***<br>\n",
    "__误删了远程的代码该怎么办好啊__<br>\n",
    "__就逝啊__<br>"
   ]
  },
  {
   "cell_type": "code",
   "execution_count": 1,
>>>>>>> a855344ee1cca1eeb9e0e2b6562452553533fdc7
   "metadata": {},
   "outputs": [
    {
     "name": "stdout",
     "output_type": "stream",
     "text": [
<<<<<<< HEAD
      "杨乐天和魏九德太巨辣！\n"
=======
      "[1 1 4 5 1 4]\n"
>>>>>>> a855344ee1cca1eeb9e0e2b6562452553533fdc7
     ]
    }
   ],
   "source": [
<<<<<<< HEAD
    "print(\"杨乐天和魏九德太巨辣！\")"
=======
    "import numpy as np\n",
    "yaju = np.array([1, 1, 4, 5, 1, 4])\n",
    "print(yaju)"
>>>>>>> a855344ee1cca1eeb9e0e2b6562452553533fdc7
   ]
  }
 ],
 "metadata": {
  "kernelspec": {
<<<<<<< HEAD
   "display_name": "Python 3",
=======
   "display_name": "Python 3.9.6 64-bit",
>>>>>>> a855344ee1cca1eeb9e0e2b6562452553533fdc7
   "language": "python",
   "name": "python3"
  },
  "language_info": {
   "codemirror_mode": {
    "name": "ipython",
    "version": 3
   },
   "file_extension": ".py",
   "mimetype": "text/x-python",
   "name": "python",
   "nbconvert_exporter": "python",
   "pygments_lexer": "ipython3",
<<<<<<< HEAD
   "version": "3.8.8"
  }
 },
 "nbformat": 4,
 "nbformat_minor": 5
=======
   "version": "3.9.6"
  },
  "orig_nbformat": 4,
  "vscode": {
   "interpreter": {
    "hash": "e450050b432e843bda3c41bf3272c133bfc370a7003f3e377e27f87a49ce1127"
   }
  }
 },
 "nbformat": 4,
 "nbformat_minor": 2
>>>>>>> a855344ee1cca1eeb9e0e2b6562452553533fdc7
}
